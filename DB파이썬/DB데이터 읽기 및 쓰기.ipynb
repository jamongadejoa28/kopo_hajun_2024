{
 "cells": [
  {
   "cell_type": "markdown",
   "id": "67d6d241-d9dd-406b-9657-c72f9a9195ca",
   "metadata": {},
   "source": [
    "# 사전 설치가 필요한 것들"
   ]
  },
  {
   "cell_type": "code",
   "execution_count": null,
   "id": "b632f9db-368c-4543-917b-0bcadbe181c4",
   "metadata": {},
   "outputs": [],
   "source": [
    "!pip install sqlAlchemy"
   ]
  },
  {
   "cell_type": "code",
   "execution_count": null,
   "id": "f65903f8-f58f-49d0-9e97-94c2df22364f",
   "metadata": {},
   "outputs": [],
   "source": [
    "!pip install mysql-connector"
   ]
  },
  {
   "cell_type": "code",
   "execution_count": null,
   "id": "bd4c73b4-d31e-4cc1-a332-24e70688a247",
   "metadata": {},
   "outputs": [],
   "source": [
    "!pip install pymysql"
   ]
  },
  {
   "cell_type": "markdown",
   "id": "a7acf3fd-9378-44c1-aa59-451e3e9b8613",
   "metadata": {},
   "source": [
    "# MariaDB 데이터 읽기 및 쓰기"
   ]
  },
  {
   "cell_type": "code",
   "execution_count": null,
   "id": "238ddcc3-16c2-4a24-aa5e-8730ad5c5ce5",
   "metadata": {},
   "outputs": [],
   "source": [
    "import pymysql\n",
    "from sqlalchemy import create_engine\n",
    "\n",
    "mr_dbPrefix = \"mariadb\"\n",
    "mr_dbId = \"\"\n",
    "mr_dbPw = \"\"\n",
    "mr_dbIP = \"\"\n",
    "mr_dbPort = \"\"\n",
    "mr_dbName = \"\"\n",
    "mr_pgEngine = create_engine(f\"{mr_dbPrefix}://{mr_dbId}:{mr_dbPw}@{mr_dbIP}:{mr_dbPort}/{mr_dbName}\")\n",
    "\n",
    "indata2.to_sql(name = '', con = mr_pgEngine, if_exists = 'replace', index = False)\n",
    "\n",
    "# try:\n",
    "#     indata2.to_sql(name = 'csdata_조하준', con = pgEngine, if_exists = 'replace', index = False)\n",
    "# except Exception as e:\n",
    "#     print(e)"
   ]
  },
  {
   "cell_type": "markdown",
   "id": "b9b8bb12-cbeb-445f-a987-d3568597eb85",
   "metadata": {},
   "source": [
    "# postgresql 데이터 읽기 및 쓰기"
   ]
  },
  {
   "cell_type": "code",
   "execution_count": null,
   "id": "3316877f-0ac0-4c47-9ab4-265b4685455c",
   "metadata": {},
   "outputs": [],
   "source": [
    "import psycopg2\n",
    "#행과열 처리용라이브러리\n",
    "import pandas as pd\n",
    "#db접속 엔진 생성용 라이브러리\n",
    "from sqlalchemy import create_engine\n",
    "\n",
    "dbPrefix = \"postgresql\"\n",
    "dbId = \"\"\n",
    "dbPw = \"\"\n",
    "dbIP = \"\"\n",
    "dbPort = \"\"\n",
    "dbName = \"\"\n",
    "pgEngine = create_engine(f\"{dbPrefix}://{dbId}:{dbPw}@{dbIP}:{dbPort}/{dbName}\")\n",
    "\n",
    "selSelect =\"\"\"\n",
    "SELECT * FROM\n",
    "kopo_0401\n",
    "\"\"\"\n",
    "\n",
    "indata = pd.read_sql_query(sql = selSelect, con=pgEngine)\n",
    "indata\n",
    "\n",
    "try:\n",
    "    indata.to_sql(name = resultname, con = pgEngine, if_exists = 'replace', index = False)\n",
    "except Exception as e:\n",
    "    print(e)"
   ]
  },
  {
   "cell_type": "markdown",
   "id": "1717fff5-1d35-411c-afcb-1e115408674d",
   "metadata": {},
   "source": [
    "## 에디터에서 데이터를 불러와 변경한 판다스 데이터프레임의 데이터를 가지고 sql서버에 저장이 가능"
   ]
  },
  {
   "cell_type": "code",
   "execution_count": null,
   "id": "57db7885-f063-4b5a-b812-28f661cc3bd0",
   "metadata": {},
   "outputs": [],
   "source": []
  }
 ],
 "metadata": {
  "kernelspec": {
   "display_name": "Python 3 (ipykernel)",
   "language": "python",
   "name": "python3"
  },
  "language_info": {
   "codemirror_mode": {
    "name": "ipython",
    "version": 3
   },
   "file_extension": ".py",
   "mimetype": "text/x-python",
   "name": "python",
   "nbconvert_exporter": "python",
   "pygments_lexer": "ipython3",
   "version": "3.10.11"
  }
 },
 "nbformat": 4,
 "nbformat_minor": 5
}
